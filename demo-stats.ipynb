{
 "cells": [
  {
   "cell_type": "markdown",
   "metadata": {},
   "source": [
    "# Basic stats on the evolution of COVID-19 hospitalizations in departments"
   ]
  },
  {
   "cell_type": "code",
   "execution_count": 1,
   "metadata": {},
   "outputs": [],
   "source": [
    "%load_ext lab_black\n",
    "%matplotlib inline"
   ]
  },
  {
   "cell_type": "code",
   "execution_count": 2,
   "metadata": {},
   "outputs": [],
   "source": [
    "import matplotlib.pyplot as plt\n",
    "from datetime import timedelta, date\n",
    "import pandas as pd\n",
    "import warnings\n",
    "\n",
    "warnings.filterwarnings(\"ignore\")\n",
    "pd.plotting.register_matplotlib_converters()"
   ]
  },
  {
   "cell_type": "code",
   "execution_count": 3,
   "metadata": {},
   "outputs": [],
   "source": [
    "covid_url = (\n",
    "    \"https://www.data.gouv.fr/fr/datasets/r/63352e38-d353-4b54-bfd1-f1b3ee1cabd7\"\n",
    ")\n",
    "filter_dep = [\"971\", \"972\", \"973\", \"974\", \"976\"]  # only metropolitan France\n",
    "figsize = (15, 10)"
   ]
  },
  {
   "cell_type": "markdown",
   "metadata": {},
   "source": [
    "#### <br> Load table with COVID-19 data (figures by dates)"
   ]
  },
  {
   "cell_type": "code",
   "execution_count": 4,
   "metadata": {},
   "outputs": [
    {
     "data": {
      "text/html": [
       "<div>\n",
       "<style scoped>\n",
       "    .dataframe tbody tr th:only-of-type {\n",
       "        vertical-align: middle;\n",
       "    }\n",
       "\n",
       "    .dataframe tbody tr th {\n",
       "        vertical-align: top;\n",
       "    }\n",
       "\n",
       "    .dataframe thead th {\n",
       "        text-align: right;\n",
       "    }\n",
       "</style>\n",
       "<table border=\"1\" class=\"dataframe\">\n",
       "  <thead>\n",
       "    <tr style=\"text-align: right;\">\n",
       "      <th></th>\n",
       "      <th>dep</th>\n",
       "      <th>hosp</th>\n",
       "      <th>rea</th>\n",
       "      <th>rad</th>\n",
       "      <th>dc</th>\n",
       "    </tr>\n",
       "    <tr>\n",
       "      <th>jour</th>\n",
       "      <th></th>\n",
       "      <th></th>\n",
       "      <th></th>\n",
       "      <th></th>\n",
       "      <th></th>\n",
       "    </tr>\n",
       "  </thead>\n",
       "  <tbody>\n",
       "    <tr>\n",
       "      <td>2020-03-18</td>\n",
       "      <td>01</td>\n",
       "      <td>2</td>\n",
       "      <td>0</td>\n",
       "      <td>1</td>\n",
       "      <td>0</td>\n",
       "    </tr>\n",
       "    <tr>\n",
       "      <td>2020-03-18</td>\n",
       "      <td>02</td>\n",
       "      <td>41</td>\n",
       "      <td>10</td>\n",
       "      <td>18</td>\n",
       "      <td>11</td>\n",
       "    </tr>\n",
       "  </tbody>\n",
       "</table>\n",
       "</div>"
      ],
      "text/plain": [
       "           dep  hosp  rea  rad  dc\n",
       "jour                              \n",
       "2020-03-18  01     2    0    1   0\n",
       "2020-03-18  02    41   10   18  11"
      ]
     },
     "execution_count": 4,
     "metadata": {},
     "output_type": "execute_result"
    }
   ],
   "source": [
    "df = pd.read_csv(covid_url, sep=\";\", parse_dates=True, index_col=2)\n",
    "df = df.query(\"sexe == 0\")  # sum male/female\n",
    "df.drop(columns=[\"sexe\"], inplace=True)\n",
    "df.query(\"dep not in @filter_dep\", inplace=True)\n",
    "df.sort_index(inplace=True)\n",
    "df.head(2)"
   ]
  },
  {
   "cell_type": "code",
   "execution_count": 5,
   "metadata": {},
   "outputs": [
    {
     "name": "stdout",
     "output_type": "stream",
     "text": [
      "Evolution from  2020-03-31 00:00:00  to  2020-04-01 00:00:00\n"
     ]
    }
   ],
   "source": [
    "last_day = df.index.max()\n",
    "previous_day = last_day - timedelta(days=1)\n",
    "print(\"Evolution from \", previous_day, \" to \", last_day)"
   ]
  },
  {
   "cell_type": "markdown",
   "metadata": {},
   "source": [
    "#### <br> Build a new dataframe with data from two latest days and the associated evolution"
   ]
  },
  {
   "cell_type": "code",
   "execution_count": 6,
   "metadata": {},
   "outputs": [
    {
     "data": {
      "text/html": [
       "<div>\n",
       "<style scoped>\n",
       "    .dataframe tbody tr th:only-of-type {\n",
       "        vertical-align: middle;\n",
       "    }\n",
       "\n",
       "    .dataframe tbody tr th {\n",
       "        vertical-align: top;\n",
       "    }\n",
       "\n",
       "    .dataframe thead th {\n",
       "        text-align: right;\n",
       "    }\n",
       "</style>\n",
       "<table border=\"1\" class=\"dataframe\">\n",
       "  <thead>\n",
       "    <tr style=\"text-align: right;\">\n",
       "      <th></th>\n",
       "      <th>dep</th>\n",
       "      <th>prev_hosp</th>\n",
       "      <th>last_hosp</th>\n",
       "      <th>diff</th>\n",
       "      <th>percent</th>\n",
       "    </tr>\n",
       "  </thead>\n",
       "  <tbody>\n",
       "    <tr>\n",
       "      <td>0</td>\n",
       "      <td>01</td>\n",
       "      <td>72</td>\n",
       "      <td>92</td>\n",
       "      <td>20</td>\n",
       "      <td>27.777778</td>\n",
       "    </tr>\n",
       "    <tr>\n",
       "      <td>1</td>\n",
       "      <td>02</td>\n",
       "      <td>144</td>\n",
       "      <td>164</td>\n",
       "      <td>20</td>\n",
       "      <td>13.888889</td>\n",
       "    </tr>\n",
       "    <tr>\n",
       "      <td>2</td>\n",
       "      <td>03</td>\n",
       "      <td>36</td>\n",
       "      <td>38</td>\n",
       "      <td>2</td>\n",
       "      <td>5.555556</td>\n",
       "    </tr>\n",
       "    <tr>\n",
       "      <td>3</td>\n",
       "      <td>04</td>\n",
       "      <td>20</td>\n",
       "      <td>22</td>\n",
       "      <td>2</td>\n",
       "      <td>10.000000</td>\n",
       "    </tr>\n",
       "    <tr>\n",
       "      <td>4</td>\n",
       "      <td>05</td>\n",
       "      <td>42</td>\n",
       "      <td>52</td>\n",
       "      <td>10</td>\n",
       "      <td>23.809524</td>\n",
       "    </tr>\n",
       "  </tbody>\n",
       "</table>\n",
       "</div>"
      ],
      "text/plain": [
       "  dep  prev_hosp  last_hosp  diff    percent\n",
       "0  01         72         92    20  27.777778\n",
       "1  02        144        164    20  13.888889\n",
       "2  03         36         38     2   5.555556\n",
       "3  04         20         22     2  10.000000\n",
       "4  05         42         52    10  23.809524"
      ]
     },
     "execution_count": 6,
     "metadata": {},
     "output_type": "execute_result"
    }
   ],
   "source": [
    "sdf = df.loc[last_day]\n",
    "sdf.reset_index(inplace=True)\n",
    "pdf = df.loc[previous_day]\n",
    "pdf.reset_index(inplace=True)\n",
    "frame = {\"dep\": sdf[\"dep\"], \"prev_hosp\": pdf[\"hosp\"], \"last_hosp\": sdf[\"hosp\"]}\n",
    "stats = pd.DataFrame(frame)\n",
    "stats[\"diff\"] = stats[\"last_hosp\"] - stats[\"prev_hosp\"]\n",
    "stats[\"percent\"] = stats[\"diff\"] / stats[\"prev_hosp\"] * 100\n",
    "stats.head()"
   ]
  },
  {
   "cell_type": "markdown",
   "metadata": {},
   "source": [
    "#### <br> Departments with highest number of hospitalizations on the latest day"
   ]
  },
  {
   "cell_type": "code",
   "execution_count": 7,
   "metadata": {},
   "outputs": [
    {
     "data": {
      "text/html": [
       "<div>\n",
       "<style scoped>\n",
       "    .dataframe tbody tr th:only-of-type {\n",
       "        vertical-align: middle;\n",
       "    }\n",
       "\n",
       "    .dataframe tbody tr th {\n",
       "        vertical-align: top;\n",
       "    }\n",
       "\n",
       "    .dataframe thead th {\n",
       "        text-align: right;\n",
       "    }\n",
       "</style>\n",
       "<table border=\"1\" class=\"dataframe\">\n",
       "  <thead>\n",
       "    <tr style=\"text-align: right;\">\n",
       "      <th></th>\n",
       "      <th>dep</th>\n",
       "      <th>prev_hosp</th>\n",
       "      <th>last_hosp</th>\n",
       "      <th>diff</th>\n",
       "      <th>percent</th>\n",
       "    </tr>\n",
       "  </thead>\n",
       "  <tbody>\n",
       "    <tr>\n",
       "      <td>75</td>\n",
       "      <td>75</td>\n",
       "      <td>2434</td>\n",
       "      <td>2633</td>\n",
       "      <td>199</td>\n",
       "      <td>8.175842</td>\n",
       "    </tr>\n",
       "    <tr>\n",
       "      <td>92</td>\n",
       "      <td>92</td>\n",
       "      <td>1446</td>\n",
       "      <td>1638</td>\n",
       "      <td>192</td>\n",
       "      <td>13.278008</td>\n",
       "    </tr>\n",
       "    <tr>\n",
       "      <td>94</td>\n",
       "      <td>94</td>\n",
       "      <td>1170</td>\n",
       "      <td>1368</td>\n",
       "      <td>198</td>\n",
       "      <td>16.923077</td>\n",
       "    </tr>\n",
       "    <tr>\n",
       "      <td>93</td>\n",
       "      <td>93</td>\n",
       "      <td>964</td>\n",
       "      <td>1173</td>\n",
       "      <td>209</td>\n",
       "      <td>21.680498</td>\n",
       "    </tr>\n",
       "    <tr>\n",
       "      <td>69</td>\n",
       "      <td>69</td>\n",
       "      <td>1054</td>\n",
       "      <td>1114</td>\n",
       "      <td>60</td>\n",
       "      <td>5.692600</td>\n",
       "    </tr>\n",
       "  </tbody>\n",
       "</table>\n",
       "</div>"
      ],
      "text/plain": [
       "   dep  prev_hosp  last_hosp  diff    percent\n",
       "75  75       2434       2633   199   8.175842\n",
       "92  92       1446       1638   192  13.278008\n",
       "94  94       1170       1368   198  16.923077\n",
       "93  93        964       1173   209  21.680498\n",
       "69  69       1054       1114    60   5.692600"
      ]
     },
     "execution_count": 7,
     "metadata": {},
     "output_type": "execute_result"
    }
   ],
   "source": [
    "stats.sort_values(by=\"last_hosp\", ascending=False).head()"
   ]
  },
  {
   "cell_type": "markdown",
   "metadata": {},
   "source": [
    "#### <br> Min, max, mean of evolution between the two latest days (in sum and %)"
   ]
  },
  {
   "cell_type": "code",
   "execution_count": 8,
   "metadata": {},
   "outputs": [
    {
     "name": "stdout",
     "output_type": "stream",
     "text": [
      "Min:  -18  Mean:  19.510416666666668  Max:  209\n"
     ]
    }
   ],
   "source": [
    "print(\n",
    "    \"Min: \",\n",
    "    stats[\"diff\"].min(),\n",
    "    \" Mean: \",\n",
    "    stats[\"diff\"].mean(),\n",
    "    \" Max: \",\n",
    "    stats[\"diff\"].max(),\n",
    ")"
   ]
  },
  {
   "cell_type": "code",
   "execution_count": 9,
   "metadata": {},
   "outputs": [
    {
     "name": "stdout",
     "output_type": "stream",
     "text": [
      "Min %:  -20.0  Mean %:  10.975197127957912  Max %:  60.0\n"
     ]
    }
   ],
   "source": [
    "print(\n",
    "    \"Min %: \",\n",
    "    stats.percent.min(),\n",
    "    \" Mean %: \",\n",
    "    stats.percent.mean(),\n",
    "    \" Max %: \",\n",
    "    stats.percent.max(),\n",
    ")"
   ]
  },
  {
   "cell_type": "markdown",
   "metadata": {},
   "source": [
    "#### <br> List of departments with a drecrease of hospitalizations (last two days)"
   ]
  },
  {
   "cell_type": "code",
   "execution_count": 10,
   "metadata": {},
   "outputs": [
    {
     "data": {
      "text/html": [
       "<div>\n",
       "<style scoped>\n",
       "    .dataframe tbody tr th:only-of-type {\n",
       "        vertical-align: middle;\n",
       "    }\n",
       "\n",
       "    .dataframe tbody tr th {\n",
       "        vertical-align: top;\n",
       "    }\n",
       "\n",
       "    .dataframe thead th {\n",
       "        text-align: right;\n",
       "    }\n",
       "</style>\n",
       "<table border=\"1\" class=\"dataframe\">\n",
       "  <thead>\n",
       "    <tr style=\"text-align: right;\">\n",
       "      <th></th>\n",
       "      <th>dep</th>\n",
       "      <th>prev_hosp</th>\n",
       "      <th>last_hosp</th>\n",
       "      <th>diff</th>\n",
       "      <th>percent</th>\n",
       "    </tr>\n",
       "  </thead>\n",
       "  <tbody>\n",
       "    <tr>\n",
       "      <td>6</td>\n",
       "      <td>07</td>\n",
       "      <td>87</td>\n",
       "      <td>85</td>\n",
       "      <td>-2</td>\n",
       "      <td>-2.298851</td>\n",
       "    </tr>\n",
       "    <tr>\n",
       "      <td>28</td>\n",
       "      <td>2A</td>\n",
       "      <td>89</td>\n",
       "      <td>88</td>\n",
       "      <td>-1</td>\n",
       "      <td>-1.123596</td>\n",
       "    </tr>\n",
       "    <tr>\n",
       "      <td>29</td>\n",
       "      <td>2B</td>\n",
       "      <td>10</td>\n",
       "      <td>8</td>\n",
       "      <td>-2</td>\n",
       "      <td>-20.000000</td>\n",
       "    </tr>\n",
       "    <tr>\n",
       "      <td>31</td>\n",
       "      <td>31</td>\n",
       "      <td>219</td>\n",
       "      <td>216</td>\n",
       "      <td>-3</td>\n",
       "      <td>-1.369863</td>\n",
       "    </tr>\n",
       "    <tr>\n",
       "      <td>33</td>\n",
       "      <td>33</td>\n",
       "      <td>300</td>\n",
       "      <td>296</td>\n",
       "      <td>-4</td>\n",
       "      <td>-1.333333</td>\n",
       "    </tr>\n",
       "    <tr>\n",
       "      <td>42</td>\n",
       "      <td>42</td>\n",
       "      <td>415</td>\n",
       "      <td>414</td>\n",
       "      <td>-1</td>\n",
       "      <td>-0.240964</td>\n",
       "    </tr>\n",
       "    <tr>\n",
       "      <td>66</td>\n",
       "      <td>66</td>\n",
       "      <td>122</td>\n",
       "      <td>111</td>\n",
       "      <td>-11</td>\n",
       "      <td>-9.016393</td>\n",
       "    </tr>\n",
       "    <tr>\n",
       "      <td>70</td>\n",
       "      <td>70</td>\n",
       "      <td>69</td>\n",
       "      <td>68</td>\n",
       "      <td>-1</td>\n",
       "      <td>-1.449275</td>\n",
       "    </tr>\n",
       "    <tr>\n",
       "      <td>71</td>\n",
       "      <td>71</td>\n",
       "      <td>191</td>\n",
       "      <td>173</td>\n",
       "      <td>-18</td>\n",
       "      <td>-9.424084</td>\n",
       "    </tr>\n",
       "    <tr>\n",
       "      <td>72</td>\n",
       "      <td>72</td>\n",
       "      <td>101</td>\n",
       "      <td>99</td>\n",
       "      <td>-2</td>\n",
       "      <td>-1.980198</td>\n",
       "    </tr>\n",
       "    <tr>\n",
       "      <td>76</td>\n",
       "      <td>76</td>\n",
       "      <td>313</td>\n",
       "      <td>306</td>\n",
       "      <td>-7</td>\n",
       "      <td>-2.236422</td>\n",
       "    </tr>\n",
       "    <tr>\n",
       "      <td>83</td>\n",
       "      <td>83</td>\n",
       "      <td>180</td>\n",
       "      <td>177</td>\n",
       "      <td>-3</td>\n",
       "      <td>-1.666667</td>\n",
       "    </tr>\n",
       "  </tbody>\n",
       "</table>\n",
       "</div>"
      ],
      "text/plain": [
       "   dep  prev_hosp  last_hosp  diff    percent\n",
       "6   07         87         85    -2  -2.298851\n",
       "28  2A         89         88    -1  -1.123596\n",
       "29  2B         10          8    -2 -20.000000\n",
       "31  31        219        216    -3  -1.369863\n",
       "33  33        300        296    -4  -1.333333\n",
       "42  42        415        414    -1  -0.240964\n",
       "66  66        122        111   -11  -9.016393\n",
       "70  70         69         68    -1  -1.449275\n",
       "71  71        191        173   -18  -9.424084\n",
       "72  72        101         99    -2  -1.980198\n",
       "76  76        313        306    -7  -2.236422\n",
       "83  83        180        177    -3  -1.666667"
      ]
     },
     "execution_count": 10,
     "metadata": {},
     "output_type": "execute_result"
    }
   ],
   "source": [
    "stats.query(\"diff < 0\")"
   ]
  },
  {
   "cell_type": "markdown",
   "metadata": {},
   "source": [
    "#### <br> Departments with highest evolution of hospitalizations (total number)"
   ]
  },
  {
   "cell_type": "code",
   "execution_count": 11,
   "metadata": {},
   "outputs": [
    {
     "data": {
      "text/html": [
       "<div>\n",
       "<style scoped>\n",
       "    .dataframe tbody tr th:only-of-type {\n",
       "        vertical-align: middle;\n",
       "    }\n",
       "\n",
       "    .dataframe tbody tr th {\n",
       "        vertical-align: top;\n",
       "    }\n",
       "\n",
       "    .dataframe thead th {\n",
       "        text-align: right;\n",
       "    }\n",
       "</style>\n",
       "<table border=\"1\" class=\"dataframe\">\n",
       "  <thead>\n",
       "    <tr style=\"text-align: right;\">\n",
       "      <th></th>\n",
       "      <th>dep</th>\n",
       "      <th>prev_hosp</th>\n",
       "      <th>last_hosp</th>\n",
       "      <th>diff</th>\n",
       "      <th>percent</th>\n",
       "    </tr>\n",
       "  </thead>\n",
       "  <tbody>\n",
       "    <tr>\n",
       "      <td>93</td>\n",
       "      <td>93</td>\n",
       "      <td>964</td>\n",
       "      <td>1173</td>\n",
       "      <td>209</td>\n",
       "      <td>21.680498</td>\n",
       "    </tr>\n",
       "    <tr>\n",
       "      <td>75</td>\n",
       "      <td>75</td>\n",
       "      <td>2434</td>\n",
       "      <td>2633</td>\n",
       "      <td>199</td>\n",
       "      <td>8.175842</td>\n",
       "    </tr>\n",
       "    <tr>\n",
       "      <td>94</td>\n",
       "      <td>94</td>\n",
       "      <td>1170</td>\n",
       "      <td>1368</td>\n",
       "      <td>198</td>\n",
       "      <td>16.923077</td>\n",
       "    </tr>\n",
       "    <tr>\n",
       "      <td>92</td>\n",
       "      <td>92</td>\n",
       "      <td>1446</td>\n",
       "      <td>1638</td>\n",
       "      <td>192</td>\n",
       "      <td>13.278008</td>\n",
       "    </tr>\n",
       "    <tr>\n",
       "      <td>78</td>\n",
       "      <td>78</td>\n",
       "      <td>706</td>\n",
       "      <td>815</td>\n",
       "      <td>109</td>\n",
       "      <td>15.439093</td>\n",
       "    </tr>\n",
       "  </tbody>\n",
       "</table>\n",
       "</div>"
      ],
      "text/plain": [
       "   dep  prev_hosp  last_hosp  diff    percent\n",
       "93  93        964       1173   209  21.680498\n",
       "75  75       2434       2633   199   8.175842\n",
       "94  94       1170       1368   198  16.923077\n",
       "92  92       1446       1638   192  13.278008\n",
       "78  78        706        815   109  15.439093"
      ]
     },
     "execution_count": 11,
     "metadata": {},
     "output_type": "execute_result"
    }
   ],
   "source": [
    "stats.sort_values(by=\"diff\", ascending=False).head()"
   ]
  },
  {
   "cell_type": "markdown",
   "metadata": {},
   "source": [
    "#### <br> Departments with highest rate of hospitalizations (%)"
   ]
  },
  {
   "cell_type": "code",
   "execution_count": 12,
   "metadata": {},
   "outputs": [
    {
     "data": {
      "text/html": [
       "<div>\n",
       "<style scoped>\n",
       "    .dataframe tbody tr th:only-of-type {\n",
       "        vertical-align: middle;\n",
       "    }\n",
       "\n",
       "    .dataframe tbody tr th {\n",
       "        vertical-align: top;\n",
       "    }\n",
       "\n",
       "    .dataframe thead th {\n",
       "        text-align: right;\n",
       "    }\n",
       "</style>\n",
       "<table border=\"1\" class=\"dataframe\">\n",
       "  <thead>\n",
       "    <tr style=\"text-align: right;\">\n",
       "      <th></th>\n",
       "      <th>dep</th>\n",
       "      <th>prev_hosp</th>\n",
       "      <th>last_hosp</th>\n",
       "      <th>diff</th>\n",
       "      <th>percent</th>\n",
       "    </tr>\n",
       "  </thead>\n",
       "  <tbody>\n",
       "    <tr>\n",
       "      <td>46</td>\n",
       "      <td>46</td>\n",
       "      <td>5</td>\n",
       "      <td>8</td>\n",
       "      <td>3</td>\n",
       "      <td>60.000000</td>\n",
       "    </tr>\n",
       "    <tr>\n",
       "      <td>65</td>\n",
       "      <td>65</td>\n",
       "      <td>28</td>\n",
       "      <td>39</td>\n",
       "      <td>11</td>\n",
       "      <td>39.285714</td>\n",
       "    </tr>\n",
       "    <tr>\n",
       "      <td>82</td>\n",
       "      <td>82</td>\n",
       "      <td>8</td>\n",
       "      <td>11</td>\n",
       "      <td>3</td>\n",
       "      <td>37.500000</td>\n",
       "    </tr>\n",
       "    <tr>\n",
       "      <td>30</td>\n",
       "      <td>30</td>\n",
       "      <td>55</td>\n",
       "      <td>74</td>\n",
       "      <td>19</td>\n",
       "      <td>34.545455</td>\n",
       "    </tr>\n",
       "    <tr>\n",
       "      <td>8</td>\n",
       "      <td>09</td>\n",
       "      <td>12</td>\n",
       "      <td>16</td>\n",
       "      <td>4</td>\n",
       "      <td>33.333333</td>\n",
       "    </tr>\n",
       "  </tbody>\n",
       "</table>\n",
       "</div>"
      ],
      "text/plain": [
       "   dep  prev_hosp  last_hosp  diff    percent\n",
       "46  46          5          8     3  60.000000\n",
       "65  65         28         39    11  39.285714\n",
       "82  82          8         11     3  37.500000\n",
       "30  30         55         74    19  34.545455\n",
       "8   09         12         16     4  33.333333"
      ]
     },
     "execution_count": 12,
     "metadata": {},
     "output_type": "execute_result"
    }
   ],
   "source": [
    "stats.sort_values(by=\"percent\", ascending=False).head()"
   ]
  },
  {
   "cell_type": "markdown",
   "metadata": {},
   "source": [
    "#### <br> Focus on some departments"
   ]
  },
  {
   "cell_type": "code",
   "execution_count": 13,
   "metadata": {},
   "outputs": [
    {
     "data": {
      "text/html": [
       "<div>\n",
       "<style scoped>\n",
       "    .dataframe tbody tr th:only-of-type {\n",
       "        vertical-align: middle;\n",
       "    }\n",
       "\n",
       "    .dataframe tbody tr th {\n",
       "        vertical-align: top;\n",
       "    }\n",
       "\n",
       "    .dataframe thead th {\n",
       "        text-align: right;\n",
       "    }\n",
       "</style>\n",
       "<table border=\"1\" class=\"dataframe\">\n",
       "  <thead>\n",
       "    <tr style=\"text-align: right;\">\n",
       "      <th></th>\n",
       "      <th>dep</th>\n",
       "      <th>prev_hosp</th>\n",
       "      <th>last_hosp</th>\n",
       "      <th>diff</th>\n",
       "      <th>percent</th>\n",
       "    </tr>\n",
       "  </thead>\n",
       "  <tbody>\n",
       "    <tr>\n",
       "      <td>75</td>\n",
       "      <td>75</td>\n",
       "      <td>2434</td>\n",
       "      <td>2633</td>\n",
       "      <td>199</td>\n",
       "      <td>8.175842</td>\n",
       "    </tr>\n",
       "  </tbody>\n",
       "</table>\n",
       "</div>"
      ],
      "text/plain": [
       "   dep  prev_hosp  last_hosp  diff   percent\n",
       "75  75       2434       2633   199  8.175842"
      ]
     },
     "execution_count": 13,
     "metadata": {},
     "output_type": "execute_result"
    }
   ],
   "source": [
    "stats.query(\"dep=='75'\")"
   ]
  },
  {
   "cell_type": "code",
   "execution_count": 14,
   "metadata": {},
   "outputs": [
    {
     "data": {
      "text/html": [
       "<div>\n",
       "<style scoped>\n",
       "    .dataframe tbody tr th:only-of-type {\n",
       "        vertical-align: middle;\n",
       "    }\n",
       "\n",
       "    .dataframe tbody tr th {\n",
       "        vertical-align: top;\n",
       "    }\n",
       "\n",
       "    .dataframe thead th {\n",
       "        text-align: right;\n",
       "    }\n",
       "</style>\n",
       "<table border=\"1\" class=\"dataframe\">\n",
       "  <thead>\n",
       "    <tr style=\"text-align: right;\">\n",
       "      <th></th>\n",
       "      <th>dep</th>\n",
       "      <th>prev_hosp</th>\n",
       "      <th>last_hosp</th>\n",
       "      <th>diff</th>\n",
       "      <th>percent</th>\n",
       "    </tr>\n",
       "  </thead>\n",
       "  <tbody>\n",
       "    <tr>\n",
       "      <td>71</td>\n",
       "      <td>71</td>\n",
       "      <td>191</td>\n",
       "      <td>173</td>\n",
       "      <td>-18</td>\n",
       "      <td>-9.424084</td>\n",
       "    </tr>\n",
       "  </tbody>\n",
       "</table>\n",
       "</div>"
      ],
      "text/plain": [
       "   dep  prev_hosp  last_hosp  diff   percent\n",
       "71  71        191        173   -18 -9.424084"
      ]
     },
     "execution_count": 14,
     "metadata": {},
     "output_type": "execute_result"
    }
   ],
   "source": [
    "stats.query(\"dep=='71'\")"
   ]
  },
  {
   "cell_type": "code",
   "execution_count": 15,
   "metadata": {},
   "outputs": [
    {
     "data": {
      "text/html": [
       "<div>\n",
       "<style scoped>\n",
       "    .dataframe tbody tr th:only-of-type {\n",
       "        vertical-align: middle;\n",
       "    }\n",
       "\n",
       "    .dataframe tbody tr th {\n",
       "        vertical-align: top;\n",
       "    }\n",
       "\n",
       "    .dataframe thead th {\n",
       "        text-align: right;\n",
       "    }\n",
       "</style>\n",
       "<table border=\"1\" class=\"dataframe\">\n",
       "  <thead>\n",
       "    <tr style=\"text-align: right;\">\n",
       "      <th></th>\n",
       "      <th>dep</th>\n",
       "      <th>prev_hosp</th>\n",
       "      <th>last_hosp</th>\n",
       "      <th>diff</th>\n",
       "      <th>percent</th>\n",
       "    </tr>\n",
       "  </thead>\n",
       "  <tbody>\n",
       "    <tr>\n",
       "      <td>31</td>\n",
       "      <td>31</td>\n",
       "      <td>219</td>\n",
       "      <td>216</td>\n",
       "      <td>-3</td>\n",
       "      <td>-1.369863</td>\n",
       "    </tr>\n",
       "  </tbody>\n",
       "</table>\n",
       "</div>"
      ],
      "text/plain": [
       "   dep  prev_hosp  last_hosp  diff   percent\n",
       "31  31        219        216    -3 -1.369863"
      ]
     },
     "execution_count": 15,
     "metadata": {},
     "output_type": "execute_result"
    }
   ],
   "source": [
    "stats.query(\"dep=='31'\")"
   ]
  },
  {
   "cell_type": "code",
   "execution_count": null,
   "metadata": {},
   "outputs": [],
   "source": []
  }
 ],
 "metadata": {
  "kernelspec": {
   "display_name": "Python 3",
   "language": "python",
   "name": "python3"
  },
  "language_info": {
   "codemirror_mode": {
    "name": "ipython",
    "version": 3
   },
   "file_extension": ".py",
   "mimetype": "text/x-python",
   "name": "python",
   "nbconvert_exporter": "python",
   "pygments_lexer": "ipython3",
   "version": "3.7.4"
  }
 },
 "nbformat": 4,
 "nbformat_minor": 4
}
