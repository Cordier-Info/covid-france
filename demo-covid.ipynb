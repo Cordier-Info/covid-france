{
 "cells": [
  {
   "cell_type": "markdown",
   "metadata": {},
   "source": [
    "# COVID-19 evolution in French departments"
   ]
  },
  {
   "cell_type": "markdown",
   "metadata": {},
   "source": [
    "#### <br> Visualize evolution of the number of people hospitalized in French departments due to COVID-19 infection"
   ]
  },
  {
   "cell_type": "code",
   "execution_count": 1,
   "metadata": {},
   "outputs": [],
   "source": [
    "%load_ext lab_black\n",
    "%matplotlib inline"
   ]
  },
  {
   "cell_type": "code",
   "execution_count": 18,
   "metadata": {},
   "outputs": [],
   "source": [
    "from IPython.display import HTML\n",
    "import requests\n",
    "import zipfile\n",
    "import io\n",
    "from datetime import timedelta, date, datetime\n",
    "import matplotlib\n",
    "import matplotlib.pyplot as plt\n",
    "from mpl_toolkits.axes_grid1 import make_axes_locatable\n",
    "import pandas as pd\n",
    "import geopandas as gpd\n",
    "import contextily as ctx\n",
    "from PIL import Image"
   ]
  },
  {
   "cell_type": "markdown",
   "metadata": {},
   "source": [
    "#### <br> COVID data are open data from the French open data portal data.gouv.fr: https://www.data.gouv.fr/fr/datasets/donnees-relatives-a-lepidemie-du-covid-19/"
   ]
  },
  {
   "cell_type": "code",
   "execution_count": 3,
   "metadata": {},
   "outputs": [],
   "source": [
    "url_dep = \"http://osm13.openstreetmap.fr/~cquest/openfla/export/departements-20140306-5m-shp.zip\"\n",
    "covid_url = (\n",
    "    \"https://www.data.gouv.fr/fr/datasets/r/63352e38-d353-4b54-bfd1-f1b3ee1cabd7\"\n",
    ")\n",
    "filter_dep = [\"971\", \"972\", \"973\", \"974\", \"976\"]  # only metropolitan France\n",
    "figsize = (15, 15)\n",
    "tile_zoom = 7\n",
    "frame_duration = 50  # in ms"
   ]
  },
  {
   "cell_type": "markdown",
   "metadata": {},
   "source": [
    "#### <br> Load French departements data into a GeoPandas GeoSeries"
   ]
  },
  {
   "cell_type": "markdown",
   "metadata": {},
   "source": [
    "#### More information on these geographical open data can be found here: https://www.data.gouv.fr/fr/datasets/contours-des-departements-francais-issus-d-openstreetmap/"
   ]
  },
  {
   "cell_type": "code",
   "execution_count": 4,
   "metadata": {},
   "outputs": [],
   "source": [
    "local_path = \"tmp/\"\n",
    "r = requests.get(url_dep)\n",
    "z = zipfile.ZipFile(io.BytesIO(r.content))\n",
    "z.extractall(path=local_path)\n",
    "filenames = [\n",
    "    y\n",
    "    for y in sorted(z.namelist())\n",
    "    for ending in [\"dbf\", \"prj\", \"shp\", \"shx\"]\n",
    "    if y.endswith(ending)\n",
    "]\n",
    "dbf, prj, shp, shx = [filename for filename in filenames]\n",
    "fr = gpd.read_file(local_path + shp)  #  + encoding=\"utf-8\" if needed\n",
    "fr.crs = \"epsg:4326\"  # {'init': 'epsg:4326'}\n",
    "met = fr.query(\"code_insee not in @filter_dep\")\n",
    "met.set_index(\"code_insee\", inplace=True)\n",
    "met = met[\"geometry\"]"
   ]
  },
  {
   "cell_type": "markdown",
   "metadata": {},
   "source": [
    "#### <br> Load the map tile with contextily"
   ]
  },
  {
   "cell_type": "code",
   "execution_count": 5,
   "metadata": {},
   "outputs": [],
   "source": [
    "w, s, e, n = met.total_bounds\n",
    "bck, ext = ctx.bounds2img(w, s, e, n, zoom=tile_zoom, ll=True)"
   ]
  },
  {
   "cell_type": "markdown",
   "metadata": {},
   "source": [
    "#### <br> Plot function to save image at a given date (title)"
   ]
  },
  {
   "cell_type": "code",
   "execution_count": 6,
   "metadata": {},
   "outputs": [],
   "source": [
    "def save_img(df, title, img_name, vmin, vmax):\n",
    "    gdf = gpd.GeoDataFrame(df, crs={\"init\": \"epsg:4326\"})\n",
    "    gdf_3857 = gdf.to_crs(epsg=3857)  # web mercator\n",
    "    f, ax = plt.subplots(figsize=figsize)\n",
    "    ax.imshow(\n",
    "        bck, extent=ext, interpolation=\"sinc\", aspect=\"equal\"\n",
    "    )  # load background map\n",
    "    divider = make_axes_locatable(ax)\n",
    "    cax = divider.append_axes(\n",
    "        \"right\", size=\"5%\", pad=0.1\n",
    "    )  # GeoPandas trick to adjust the legend bar\n",
    "    gdf_3857.plot(\n",
    "        column=\"tx\",  # taux d'hospitalisation\n",
    "        ax=ax,\n",
    "        cax=cax,\n",
    "        alpha=0.75,\n",
    "        edgecolor=\"k\",\n",
    "        legend=True,\n",
    "        cmap=matplotlib.cm.get_cmap(\"magma_r\"),\n",
    "        vmin=vmin,\n",
    "        vmax=vmax,\n",
    "    )\n",
    "\n",
    "    ax.set_axis_off()\n",
    "    ax.get_xaxis().set_visible(False)\n",
    "    ax.get_yaxis().set_visible(False)\n",
    "    ax.set_title(title, fontsize=25)\n",
    "    plt.savefig(img_name, bbox_inches=\"tight\")  # pad_inches=-0.1 to remove border\n",
    "    plt.close(f)"
   ]
  },
  {
   "cell_type": "markdown",
   "metadata": {},
   "source": [
    "#### <br> Load COVID data into a pandas DataFrame"
   ]
  },
  {
   "cell_type": "code",
   "execution_count": 7,
   "metadata": {},
   "outputs": [
    {
     "data": {
      "text/html": [
       "<div>\n",
       "<style scoped>\n",
       "    .dataframe tbody tr th:only-of-type {\n",
       "        vertical-align: middle;\n",
       "    }\n",
       "\n",
       "    .dataframe tbody tr th {\n",
       "        vertical-align: top;\n",
       "    }\n",
       "\n",
       "    .dataframe thead th {\n",
       "        text-align: right;\n",
       "    }\n",
       "</style>\n",
       "<table border=\"1\" class=\"dataframe\">\n",
       "  <thead>\n",
       "    <tr style=\"text-align: right;\">\n",
       "      <th></th>\n",
       "      <th>dep</th>\n",
       "      <th>sexe</th>\n",
       "      <th>hosp</th>\n",
       "      <th>rea</th>\n",
       "      <th>rad</th>\n",
       "      <th>dc</th>\n",
       "    </tr>\n",
       "    <tr>\n",
       "      <th>jour</th>\n",
       "      <th></th>\n",
       "      <th></th>\n",
       "      <th></th>\n",
       "      <th></th>\n",
       "      <th></th>\n",
       "      <th></th>\n",
       "    </tr>\n",
       "  </thead>\n",
       "  <tbody>\n",
       "    <tr>\n",
       "      <th>2020-03-18</th>\n",
       "      <td>01</td>\n",
       "      <td>0</td>\n",
       "      <td>2</td>\n",
       "      <td>0</td>\n",
       "      <td>1</td>\n",
       "      <td>0</td>\n",
       "    </tr>\n",
       "    <tr>\n",
       "      <th>2020-03-18</th>\n",
       "      <td>02</td>\n",
       "      <td>0</td>\n",
       "      <td>41</td>\n",
       "      <td>10</td>\n",
       "      <td>18</td>\n",
       "      <td>11</td>\n",
       "    </tr>\n",
       "    <tr>\n",
       "      <th>2020-03-18</th>\n",
       "      <td>03</td>\n",
       "      <td>0</td>\n",
       "      <td>4</td>\n",
       "      <td>0</td>\n",
       "      <td>1</td>\n",
       "      <td>0</td>\n",
       "    </tr>\n",
       "    <tr>\n",
       "      <th>2020-03-18</th>\n",
       "      <td>04</td>\n",
       "      <td>0</td>\n",
       "      <td>3</td>\n",
       "      <td>1</td>\n",
       "      <td>2</td>\n",
       "      <td>0</td>\n",
       "    </tr>\n",
       "    <tr>\n",
       "      <th>2020-03-18</th>\n",
       "      <td>05</td>\n",
       "      <td>0</td>\n",
       "      <td>8</td>\n",
       "      <td>1</td>\n",
       "      <td>9</td>\n",
       "      <td>0</td>\n",
       "    </tr>\n",
       "  </tbody>\n",
       "</table>\n",
       "</div>"
      ],
      "text/plain": [
       "           dep  sexe  hosp  rea  rad  dc\n",
       "jour                                    \n",
       "2020-03-18  01     0     2    0    1   0\n",
       "2020-03-18  02     0    41   10   18  11\n",
       "2020-03-18  03     0     4    0    1   0\n",
       "2020-03-18  04     0     3    1    2   0\n",
       "2020-03-18  05     0     8    1    9   0"
      ]
     },
     "execution_count": 7,
     "metadata": {},
     "output_type": "execute_result"
    }
   ],
   "source": [
    "cov = pd.read_csv(covid_url, sep=\";\", index_col=2, parse_dates=True,)\n",
    "cov = cov.query(\"sexe == 0\")  # sum of male/female\n",
    "cov = cov.query(\"dep not in @filter_dep\")\n",
    "cov.dropna(inplace=True)\n",
    "cov.head()"
   ]
  },
  {
   "cell_type": "code",
   "execution_count": 8,
   "metadata": {},
   "outputs": [],
   "source": [
    "popf = pd.read_csv(\"popf2018.csv\", sep=\";\")"
   ]
  },
  {
   "cell_type": "code",
   "execution_count": 9,
   "metadata": {},
   "outputs": [
    {
     "data": {
      "text/html": [
       "<div>\n",
       "<style scoped>\n",
       "    .dataframe tbody tr th:only-of-type {\n",
       "        vertical-align: middle;\n",
       "    }\n",
       "\n",
       "    .dataframe tbody tr th {\n",
       "        vertical-align: top;\n",
       "    }\n",
       "\n",
       "    .dataframe thead th {\n",
       "        text-align: right;\n",
       "    }\n",
       "</style>\n",
       "<table border=\"1\" class=\"dataframe\">\n",
       "  <thead>\n",
       "    <tr style=\"text-align: right;\">\n",
       "      <th></th>\n",
       "      <th>Code Département</th>\n",
       "      <th>Département</th>\n",
       "      <th>Population</th>\n",
       "      <th>geom</th>\n",
       "      <th>geo_point_2d</th>\n",
       "    </tr>\n",
       "  </thead>\n",
       "  <tbody>\n",
       "    <tr>\n",
       "      <th>0</th>\n",
       "      <td>54</td>\n",
       "      <td>Meurthe-et-Moselle</td>\n",
       "      <td>733085</td>\n",
       "      <td>{\"type\": \"MultiPolygon\", \"coordinates\": [[[[5....</td>\n",
       "      <td>48.7887573647,6.16184940847</td>\n",
       "    </tr>\n",
       "    <tr>\n",
       "      <th>1</th>\n",
       "      <td>19</td>\n",
       "      <td>Corrèze</td>\n",
       "      <td>241891</td>\n",
       "      <td>{\"type\": \"Polygon\", \"coordinates\": [[[1.649325...</td>\n",
       "      <td>45.3573040719,1.87758804649</td>\n",
       "    </tr>\n",
       "    <tr>\n",
       "      <th>2</th>\n",
       "      <td>86</td>\n",
       "      <td>Vienne</td>\n",
       "      <td>438136</td>\n",
       "      <td>{\"type\": \"Polygon\", \"coordinates\": [[[-0.03073...</td>\n",
       "      <td>46.5648788934,0.459483212125</td>\n",
       "    </tr>\n",
       "    <tr>\n",
       "      <th>3</th>\n",
       "      <td>61</td>\n",
       "      <td>Orne</td>\n",
       "      <td>282516</td>\n",
       "      <td>{\"type\": \"Polygon\", \"coordinates\": [[[-0.73997...</td>\n",
       "      <td>48.6230741942,0.127896583869</td>\n",
       "    </tr>\n",
       "    <tr>\n",
       "      <th>4</th>\n",
       "      <td>35</td>\n",
       "      <td>Ille-et-Vilaine</td>\n",
       "      <td>1073883</td>\n",
       "      <td>{\"type\": \"MultiPolygon\", \"coordinates\": [[[[-1...</td>\n",
       "      <td>48.1550905823,-1.63820610754</td>\n",
       "    </tr>\n",
       "  </tbody>\n",
       "</table>\n",
       "</div>"
      ],
      "text/plain": [
       "  Code Département         Département  Population  \\\n",
       "0               54  Meurthe-et-Moselle      733085   \n",
       "1               19             Corrèze      241891   \n",
       "2               86              Vienne      438136   \n",
       "3               61                Orne      282516   \n",
       "4               35     Ille-et-Vilaine     1073883   \n",
       "\n",
       "                                                geom  \\\n",
       "0  {\"type\": \"MultiPolygon\", \"coordinates\": [[[[5....   \n",
       "1  {\"type\": \"Polygon\", \"coordinates\": [[[1.649325...   \n",
       "2  {\"type\": \"Polygon\", \"coordinates\": [[[-0.03073...   \n",
       "3  {\"type\": \"Polygon\", \"coordinates\": [[[-0.73997...   \n",
       "4  {\"type\": \"MultiPolygon\", \"coordinates\": [[[[-1...   \n",
       "\n",
       "                   geo_point_2d  \n",
       "0   48.7887573647,6.16184940847  \n",
       "1   45.3573040719,1.87758804649  \n",
       "2  46.5648788934,0.459483212125  \n",
       "3  48.6230741942,0.127896583869  \n",
       "4  48.1550905823,-1.63820610754  "
      ]
     },
     "execution_count": 9,
     "metadata": {},
     "output_type": "execute_result"
    }
   ],
   "source": [
    "popf.head()"
   ]
  },
  {
   "cell_type": "code",
   "execution_count": 10,
   "metadata": {},
   "outputs": [],
   "source": [
    "cov[\"tx\"] = \"\""
   ]
  },
  {
   "cell_type": "code",
   "execution_count": 11,
   "metadata": {},
   "outputs": [],
   "source": [
    "ind = 0\n",
    "for index, row in cov.iterrows():\n",
    "    dep = row[\"dep\"]\n",
    "    tx = (\n",
    "        int(row[\"hosp\"])\n",
    "        / int(popf.loc[popf[\"Code Département\"] == dep, \"Population\"])\n",
    "        * 1e6\n",
    "    )\n",
    "    cov.iat[ind, 6] = tx\n",
    "    ind += 1"
   ]
  },
  {
   "cell_type": "code",
   "execution_count": 12,
   "metadata": {},
   "outputs": [
    {
     "data": {
      "text/html": [
       "<div>\n",
       "<style scoped>\n",
       "    .dataframe tbody tr th:only-of-type {\n",
       "        vertical-align: middle;\n",
       "    }\n",
       "\n",
       "    .dataframe tbody tr th {\n",
       "        vertical-align: top;\n",
       "    }\n",
       "\n",
       "    .dataframe thead th {\n",
       "        text-align: right;\n",
       "    }\n",
       "</style>\n",
       "<table border=\"1\" class=\"dataframe\">\n",
       "  <thead>\n",
       "    <tr style=\"text-align: right;\">\n",
       "      <th></th>\n",
       "      <th>dep</th>\n",
       "      <th>sexe</th>\n",
       "      <th>hosp</th>\n",
       "      <th>rea</th>\n",
       "      <th>rad</th>\n",
       "      <th>dc</th>\n",
       "      <th>tx</th>\n",
       "    </tr>\n",
       "    <tr>\n",
       "      <th>jour</th>\n",
       "      <th></th>\n",
       "      <th></th>\n",
       "      <th></th>\n",
       "      <th></th>\n",
       "      <th></th>\n",
       "      <th></th>\n",
       "      <th></th>\n",
       "    </tr>\n",
       "  </thead>\n",
       "  <tbody>\n",
       "    <tr>\n",
       "      <th>2020-03-18</th>\n",
       "      <td>01</td>\n",
       "      <td>0</td>\n",
       "      <td>2</td>\n",
       "      <td>0</td>\n",
       "      <td>1</td>\n",
       "      <td>0</td>\n",
       "      <td>3.07856</td>\n",
       "    </tr>\n",
       "    <tr>\n",
       "      <th>2020-03-18</th>\n",
       "      <td>02</td>\n",
       "      <td>0</td>\n",
       "      <td>41</td>\n",
       "      <td>10</td>\n",
       "      <td>18</td>\n",
       "      <td>11</td>\n",
       "      <td>76.7379</td>\n",
       "    </tr>\n",
       "    <tr>\n",
       "      <th>2020-03-18</th>\n",
       "      <td>03</td>\n",
       "      <td>0</td>\n",
       "      <td>4</td>\n",
       "      <td>0</td>\n",
       "      <td>1</td>\n",
       "      <td>0</td>\n",
       "      <td>11.8002</td>\n",
       "    </tr>\n",
       "    <tr>\n",
       "      <th>2020-03-18</th>\n",
       "      <td>04</td>\n",
       "      <td>0</td>\n",
       "      <td>3</td>\n",
       "      <td>1</td>\n",
       "      <td>2</td>\n",
       "      <td>0</td>\n",
       "      <td>18.557</td>\n",
       "    </tr>\n",
       "    <tr>\n",
       "      <th>2020-03-18</th>\n",
       "      <td>05</td>\n",
       "      <td>0</td>\n",
       "      <td>8</td>\n",
       "      <td>1</td>\n",
       "      <td>9</td>\n",
       "      <td>0</td>\n",
       "      <td>56.5068</td>\n",
       "    </tr>\n",
       "  </tbody>\n",
       "</table>\n",
       "</div>"
      ],
      "text/plain": [
       "           dep  sexe  hosp  rea  rad  dc       tx\n",
       "jour                                             \n",
       "2020-03-18  01     0     2    0    1   0  3.07856\n",
       "2020-03-18  02     0    41   10   18  11  76.7379\n",
       "2020-03-18  03     0     4    0    1   0  11.8002\n",
       "2020-03-18  04     0     3    1    2   0   18.557\n",
       "2020-03-18  05     0     8    1    9   0  56.5068"
      ]
     },
     "execution_count": 12,
     "metadata": {},
     "output_type": "execute_result"
    }
   ],
   "source": [
    "cov.head()"
   ]
  },
  {
   "cell_type": "code",
   "execution_count": 13,
   "metadata": {},
   "outputs": [],
   "source": [
    "cov[\"tx\"] = cov[\"tx\"].astype(\"float64\")"
   ]
  },
  {
   "cell_type": "code",
   "execution_count": 14,
   "metadata": {},
   "outputs": [
    {
     "data": {
      "text/plain": [
       "dep      object\n",
       "sexe      int64\n",
       "hosp      int64\n",
       "rea       int64\n",
       "rad       int64\n",
       "dc        int64\n",
       "tx      float64\n",
       "dtype: object"
      ]
     },
     "execution_count": 14,
     "metadata": {},
     "output_type": "execute_result"
    }
   ],
   "source": [
    "cov.dtypes"
   ]
  },
  {
   "cell_type": "markdown",
   "metadata": {},
   "source": [
    "#### <br> Add geometry data to COVID DataFrame"
   ]
  },
  {
   "cell_type": "code",
   "execution_count": 15,
   "metadata": {},
   "outputs": [],
   "source": [
    "cov[\"geometry\"] = cov[\"dep\"].map(met)"
   ]
  },
  {
   "cell_type": "markdown",
   "metadata": {},
   "source": [
    "#### <br> Parse recorded days and save one image for each day"
   ]
  },
  {
   "cell_type": "code",
   "execution_count": 16,
   "metadata": {},
   "outputs": [],
   "source": [
    "def daterange(date1, date2):\n",
    "    for n in range(int((date2 - date1).days) + 1):\n",
    "        yield date1 + timedelta(n)"
   ]
  },
  {
   "cell_type": "markdown",
   "metadata": {},
   "source": [
    "#### Create the folder img at the root of the notebook "
   ]
  },
  {
   "cell_type": "code",
   "execution_count": 19,
   "metadata": {},
   "outputs": [],
   "source": [
    "datedeb = datetime(2020, 6, 17)\n",
    "vmax = cov[datedeb:].tx.max()\n",
    "for i, dt in enumerate(daterange(datedeb, cov.index.max())):\n",
    "    title = dt.strftime(\"%d-%b-%Y\")\n",
    "    df = cov.query(\"jour == @dt\")\n",
    "    df = df.drop_duplicates(subset=[\"dep\"], keep=\"first\")\n",
    "    img_name = \"img/\" + str(i) + \".png\"\n",
    "    save_img(df, title, img_name, 0, vmax)"
   ]
  },
  {
   "cell_type": "markdown",
   "metadata": {},
   "source": [
    "#### <br> Compile images in animated gif"
   ]
  },
  {
   "cell_type": "code",
   "execution_count": 20,
   "metadata": {},
   "outputs": [
    {
     "data": {
      "text/html": [
       "<img src='covid.gif'>"
      ],
      "text/plain": [
       "<IPython.core.display.HTML object>"
      ]
     },
     "execution_count": 20,
     "metadata": {},
     "output_type": "execute_result"
    }
   ],
   "source": [
    "frames = []\n",
    "for i, dt in enumerate(daterange(datedeb, cov.index.max())):\n",
    "    name = \"img/\" + str(i) + \".png\"\n",
    "    frames.append(Image.open(name))\n",
    "\n",
    "frames[0].save(\n",
    "    \"covid.gif\",\n",
    "    format=\"GIF\",\n",
    "    append_images=frames[1:],\n",
    "    save_all=True,\n",
    "    duration=frame_duration,\n",
    "    loop=0,\n",
    ")\n",
    "\n",
    "from IPython.display import HTML\n",
    "\n",
    "HTML(\"<img src='covid.gif'>\")"
   ]
  },
  {
   "cell_type": "code",
   "execution_count": null,
   "metadata": {},
   "outputs": [],
   "source": []
  }
 ],
 "metadata": {
  "kernelspec": {
   "display_name": "Python 3",
   "language": "python",
   "name": "python3"
  },
  "language_info": {
   "codemirror_mode": {
    "name": "ipython",
    "version": 3
   },
   "file_extension": ".py",
   "mimetype": "text/x-python",
   "name": "python",
   "nbconvert_exporter": "python",
   "pygments_lexer": "ipython3",
   "version": "3.8.3"
  }
 },
 "nbformat": 4,
 "nbformat_minor": 4
}
